{
 "cells": [
  {
   "cell_type": "code",
   "execution_count": 503,
   "id": "4d91f686",
   "metadata": {},
   "outputs": [],
   "source": [
    "# // i-th iteration\n",
    "# f(x_2, x_1, y_2, y_1) {\n",
    "#     x = x_1 + x_2 // Fibonacci\n",
    "#     y = y_1 * y_2 // Multiplicative Fibonacci\n",
    "#     t = x * y     // Fibonacci x (Multiplicative Fibonacci)\n",
    "#     (x, y, t)\n",
    "# }\n",
    "\n",
    "k = GF(101)\n",
    "\n",
    "M1 = Matrix(k, [\n",
    "    [1,1,0,0,0,0,0,0],\n",
    "    [0,0,0,0,1,0,0,0],\n",
    "    [0,0,1,0,0,0,0,0],\n",
    "    [0,0,0,0,0,0,0,0]\n",
    "])\n",
    "\n",
    "M2 = Matrix(k, [\n",
    "    [0,0,0,0,0,0,0,1],\n",
    "    [0,0,0,1,0,0,0,0],\n",
    "    [0,0,0,0,0,1,0,0],\n",
    "    [0,0,0,0,0,0,0,0]\n",
    "])\n",
    "\n",
    "M3 = Matrix(k, [\n",
    "    [0,0,1,0,0,0,0,0],\n",
    "    [0,0,0,0,0,1,0,0],\n",
    "    [0,0,0,0,0,0,1,0],\n",
    "    [0,0,0,0,0,0,0,0]\n",
    "])\n",
    "\n",
    "m = M1.nrows()\n",
    "s1 = log(m,2)\n",
    "n = M1.ncols()\n",
    "s2 = log(n,2)\n",
    "\n",
    "# First iteration\n",
    "# TODO break it up into x, w, 1\n",
    "x = [0,1,1,2,3,6,6]\n",
    "w = []\n",
    "z1 = vector(k, x + w + [1])\n",
    "\n",
    "# Second iteration\n",
    "# z2 = vector(k, [1,1,2,3,6,18,36,1])"
   ]
  },
  {
   "cell_type": "markdown",
   "id": "615a54bd",
   "metadata": {},
   "source": [
    "$$\n",
    "1 \\cdot (M_1 \\cdot z \\circ M_2 \\cdot z) + (-1) \\cdot (M_3 \\cdot z) = \\mathbf{0}\n",
    "$$"
   ]
  },
  {
   "cell_type": "code",
   "execution_count": 504,
   "id": "72f408c2",
   "metadata": {
    "scrolled": true
   },
   "outputs": [
    {
     "data": {
      "text/plain": [
       "[0]\n",
       "[0]\n",
       "[0]\n",
       "[0]"
      ]
     },
     "execution_count": 504,
     "metadata": {},
     "output_type": "execute_result"
    }
   ],
   "source": [
    "# CCS relation\n",
    "1 * (M1*z1.column()).elementwise_product(M2*z1.column())-(M3*z1.column())"
   ]
  },
  {
   "cell_type": "code",
   "execution_count": 505,
   "id": "bf60a5c9",
   "metadata": {},
   "outputs": [],
   "source": [
    "R = PolynomialRing(k, 10, \"x1, x2, y1, y2, y3, x11, x22, y11, y22, y33\")\n",
    "x1, x2, y1, y2, y3, x11, x22, y11, y22, y33 = R.gens()"
   ]
  },
  {
   "cell_type": "markdown",
   "id": "5443663b",
   "metadata": {},
   "source": [
    "$$\n",
    "\\widetilde{eq}(X_1, X_2) := \\prod_{j=1}^l ((1-X_{1_j})(1-X_{2_j}) + X_{1_j} X_{2_j})\n",
    "$$"
   ]
  },
  {
   "cell_type": "code",
   "execution_count": 506,
   "id": "81d590c2",
   "metadata": {
    "scrolled": true
   },
   "outputs": [
    {
     "data": {
      "text/plain": [
       "0"
      ]
     },
     "execution_count": 506,
     "metadata": {},
     "output_type": "execute_result"
    }
   ],
   "source": [
    "import numpy\n",
    "\n",
    "eqx = numpy.prod([(1 - xi)*(1 - xii) + xi*xii for (xi, xii) in [(x1, x11), (x2, x22)]])\n",
    "    \n",
    "eqy = numpy.prod([(1 - yi)*(1 - yii) + yi*yii for (yi, yii) in [(y1, y11), (y2, y22), (y3, y33)]])\n",
    "\n",
    "eqx(x1=1, x2=1, x11=1, x22=0)"
   ]
  },
  {
   "cell_type": "code",
   "execution_count": 507,
   "id": "99a1f4a8",
   "metadata": {},
   "outputs": [],
   "source": [
    "row = x1 + 2*x2\n",
    "col = y1 + 2*y2 + 4*y3"
   ]
  },
  {
   "cell_type": "markdown",
   "id": "954630b6",
   "metadata": {},
   "source": [
    "$$\n",
    "\\widetilde{M_i}(X, Y) := \\sum_{x \\in \\{0, 1 \\}^{s}} \\sum_{y \\in \\{0, 1 \\}^{s'}} M_i(x, y) \\cdot \\widetilde{eq}(x, X) \\cdot \\widetilde{eq}(y, Y)\n",
    "$$"
   ]
  },
  {
   "cell_type": "code",
   "execution_count": 508,
   "id": "ac5e459c",
   "metadata": {},
   "outputs": [
    {
     "data": {
      "text/plain": [
       "1"
      ]
     },
     "execution_count": 508,
     "metadata": {},
     "output_type": "execute_result"
    }
   ],
   "source": [
    "def Mi_linear(Mi):\n",
    "    return sum([\n",
    "            sum([\n",
    "                sum([\n",
    "                    sum([\n",
    "                        sum([\n",
    "                            Mi[Integer(row(x1=x1, x2=x2))][Integer(col(y1=y1,y2=y2,y3=y3))] * eqx(x1=x1,x2=x2,x11=x11,x22=x22) * eqy(y1=y1, y11=y11, y2=y2, y22=y22, y3=y3, y33=y33)\n",
    "                        for y3 in [0,1]])\n",
    "                    for y2 in [0,1]])\n",
    "                for y1 in [0,1]])\n",
    "            for x2 in [0,1]])\n",
    "         for x1 in [0,1]])\n",
    "\n",
    "Mi_linear(M1)(x11=0,x22=0,y11=1,y22=0,y33=0)"
   ]
  },
  {
   "cell_type": "markdown",
   "id": "cdc6d849",
   "metadata": {},
   "source": [
    "$$\n",
    "\\widetilde{z}((Y_1, Y_2, Y_3)) := \\sum_{y_1 \\in \\{0, 1 \\}}\\sum_{y_2 \\in \\{0, 1 \\}}\\sum_{y_3 \\in \\{0, 1 \\}} z((y_1, y_2, y_3)) \\cdot \\widetilde{eq}((y_1, y_2, y_3), (Y_1, Y_2, Y_3))\n",
    "$$"
   ]
  },
  {
   "cell_type": "code",
   "execution_count": 509,
   "id": "a9a13987",
   "metadata": {},
   "outputs": [
    {
     "data": {
      "text/plain": [
       "1"
      ]
     },
     "execution_count": 509,
     "metadata": {},
     "output_type": "execute_result"
    }
   ],
   "source": [
    "def z_linear(zi):\n",
    "    return sum([\n",
    "                sum([\n",
    "                    sum([\n",
    "                        zi[Integer(col(y1=y1,y2=y2,y3=y3))]* eqy(y1=y1, y11=y11, y2=y2, y22=y22, y3=y3, y33=y33)\n",
    "                    for y3 in [0,1]])\n",
    "                for y2 in [0,1]])\n",
    "            for y1 in [0,1]])\n",
    "\n",
    "z_linear(z1)(y11=1,y22=0,y33=0)"
   ]
  },
  {
   "cell_type": "markdown",
   "id": "32049867",
   "metadata": {},
   "source": [
    "$$\n",
    "\\sum_{y \\in \\{0, 1 \\}^3} \\widetilde{M_1}((X_1, X_2), y) \\cdot \\widetilde{z}(y)\n",
    "$$"
   ]
  },
  {
   "cell_type": "code",
   "execution_count": 510,
   "id": "0297c1e4",
   "metadata": {},
   "outputs": [],
   "source": [
    "def Mi_z_prod(Mi, zi):\n",
    "        return sum([\n",
    "                sum([\n",
    "                    sum([\n",
    "                        Mi_linear(Mi)(y11=y1,y22=y2,y33=y3) * z_linear(zi)(y11=y1,y22=y2,y33=y3)\n",
    "                    for y3 in [0,1]])\n",
    "                for y2 in [0,1]])\n",
    "            for y1 in [0,1]])"
   ]
  },
  {
   "cell_type": "markdown",
   "id": "301044d6",
   "metadata": {},
   "source": [
    "$$\n",
    "\\begin{align*}\n",
    "G((X_1, X_2)) := & 1 \\cdot (\\sum_{y \\in \\{0, 1 \\}^3} \\widetilde{M_1}((X_1, X_2), y) \\cdot \\widetilde{z}(y) \\cdot \\sum_{y \\in \\{0, 1 \\}^{3}} \\widetilde{M_1}((X_1, X_2), y) \\cdot \\widetilde{z}(y)) \\\\  + & (-1) \\cdot (\\sum_{y \\in \\{0, 1 \\}^{3}} \\widetilde{M_3}((X_1, X_2), y) \\cdot \\widetilde{z}(y)) = \\mathbf{0}\n",
    "\\end{align*}\n",
    "$$"
   ]
  },
  {
   "cell_type": "code",
   "execution_count": 511,
   "id": "5cab0714",
   "metadata": {},
   "outputs": [
    {
     "data": {
      "text/plain": [
       "21*x11^2*x22^2 - 17*x11^2*x22 - 15*x11*x22^2 + 2*x11^2 + 11*x11*x22 - 2*x11"
      ]
     },
     "execution_count": 511,
     "metadata": {},
     "output_type": "execute_result"
    }
   ],
   "source": [
    "G = Mi_z_prod(M1, z1) * Mi_z_prod(M2, z1) - Mi_z_prod(M3, z1)\n",
    "G"
   ]
  },
  {
   "cell_type": "markdown",
   "id": "840ef488",
   "metadata": {},
   "source": [
    "$$\n",
    "h((X_1, X_2)) = \\sum_{x_1 \\in \\{0,1\\}}\\sum_{x_2 \\in \\{0,1\\}}  G((x_1, x_2)) \\cdot \\widetilde{eq}((X_1, X_2), (x_1, x_2)) = 0\n",
    "$$"
   ]
  },
  {
   "cell_type": "code",
   "execution_count": 512,
   "id": "defe206b",
   "metadata": {},
   "outputs": [
    {
     "data": {
      "text/plain": [
       "0"
      ]
     },
     "execution_count": 512,
     "metadata": {},
     "output_type": "execute_result"
    }
   ],
   "source": [
    "h = sum([\n",
    "        sum([\n",
    "            G(x11=x11, x22=x22) * eqx(x11=x11, x22=x22)\n",
    "            for x22 in [0,1]])\n",
    "     for x11 in [0,1]])\n",
    "\n",
    "h"
   ]
  },
  {
   "cell_type": "code",
   "execution_count": 513,
   "id": "027b679f",
   "metadata": {},
   "outputs": [
    {
     "data": {
      "text/plain": [
       "(31, 36)"
      ]
     },
     "execution_count": 513,
     "metadata": {},
     "output_type": "execute_result"
    }
   ],
   "source": [
    "# Verifier samples a random challenge beta:=(beta_1, beta_2)\n",
    "beta1 = k.random_element()\n",
    "beta2 = k.random_element()\n",
    "\n",
    "(beta1, beta2)"
   ]
  },
  {
   "cell_type": "markdown",
   "id": "be057974",
   "metadata": {},
   "source": [
    "$$\n",
    "Q(X_1, X_2) := G((X_1, X_2)) \\cdot \\widetilde{eq}((\\beta_1, \\beta_2), (X_1, X_2))\n",
    "$$"
   ]
  },
  {
   "cell_type": "code",
   "execution_count": 514,
   "id": "65c8efc9",
   "metadata": {},
   "outputs": [
    {
     "data": {
      "text/plain": [
       "-50*x11^3*x22^3 + 11*x11^3*x22^2 - 9*x11^2*x22^3 + 12*x11^3*x22 - 40*x11^2*x22^2 + 34*x11*x22^3 - 28*x11^3 - 20*x11^2*x22 + 8*x11*x22^2 + 7*x11^2 - 47*x11*x22 + 21*x11"
      ]
     },
     "execution_count": 514,
     "metadata": {},
     "output_type": "execute_result"
    }
   ],
   "source": [
    "Q = G * eqx(x1=beta1,x2=beta2)\n",
    "Q"
   ]
  },
  {
   "cell_type": "markdown",
   "id": "89eb817d",
   "metadata": {},
   "source": [
    "## Outer Sum-Check"
   ]
  },
  {
   "cell_type": "markdown",
   "id": "9adbb08b",
   "metadata": {},
   "source": [
    "$$\n",
    "\\sum_{x_1 \\in \\{0,1\\}}\\sum_{x_2 \\in \\{0,1\\}} Q(x_1, x_2) = 0\n",
    "$$"
   ]
  },
  {
   "cell_type": "code",
   "execution_count": 515,
   "id": "12d65d13",
   "metadata": {},
   "outputs": [
    {
     "data": {
      "text/plain": [
       "True"
      ]
     },
     "execution_count": 515,
     "metadata": {},
     "output_type": "execute_result"
    }
   ],
   "source": [
    "# Sumcheck protocol 1\n",
    "\n",
    "# Prover claims that h = 0\n",
    "sum([ \n",
    "    sum([ Q(x11=x1, x22=x2) for x2 in [0,1]])\n",
    "for x1 in [0,1]]) == 0"
   ]
  },
  {
   "cell_type": "markdown",
   "id": "fdc00f78",
   "metadata": {},
   "source": [
    "$$\n",
    "Q_1(X_1) := \\sum_{x_2 \\in \\{0,1\\}} Q(X_1, x_2)\n",
    "$$"
   ]
  },
  {
   "cell_type": "code",
   "execution_count": 516,
   "id": "d0c08db0",
   "metadata": {},
   "outputs": [
    {
     "data": {
      "text/plain": [
       "18*x11^3 + 46*x11^2 + 37*x11"
      ]
     },
     "execution_count": 516,
     "metadata": {},
     "output_type": "execute_result"
    }
   ],
   "source": [
    "# Round 1\n",
    "# Prover sends s1 claiming to be Q1\n",
    "Q1 = sum([ Q(x22=x2) for x2 in [0,1]])\n",
    "s1 = Q1\n",
    "\n",
    "s1"
   ]
  },
  {
   "cell_type": "code",
   "execution_count": 517,
   "id": "830bd27d",
   "metadata": {},
   "outputs": [
    {
     "data": {
      "text/plain": [
       "True"
      ]
     },
     "execution_count": 517,
     "metadata": {},
     "output_type": "execute_result"
    }
   ],
   "source": [
    "# Verifier checks \n",
    "s1(x11=0) + s1(x11=1) == 0"
   ]
  },
  {
   "cell_type": "code",
   "execution_count": 518,
   "id": "5beb1beb",
   "metadata": {},
   "outputs": [
    {
     "data": {
      "text/plain": [
       "28"
      ]
     },
     "execution_count": 518,
     "metadata": {},
     "output_type": "execute_result"
    }
   ],
   "source": [
    "# Verifier computes a random element to check that s1 is actually Q1\n",
    "r1 = k.random_element()\n",
    "r1"
   ]
  },
  {
   "cell_type": "markdown",
   "id": "0529b632",
   "metadata": {},
   "source": [
    "$$\n",
    "Q_2(X_2) := Q(r_1, X_2)\n",
    "$$"
   ]
  },
  {
   "cell_type": "code",
   "execution_count": 519,
   "id": "edef332f",
   "metadata": {},
   "outputs": [
    {
     "data": {
      "text/plain": [
       "24*x22^3 - 47*x22^2 - 12*x22 + 46"
      ]
     },
     "execution_count": 519,
     "metadata": {},
     "output_type": "execute_result"
    }
   ],
   "source": [
    "# Round 2 (final)\n",
    "# Prover sends s2 claiming to be Q2\n",
    "Q2 = Q(x11=r1)\n",
    "s2 = Q2\n",
    "\n",
    "s2"
   ]
  },
  {
   "cell_type": "code",
   "execution_count": 520,
   "id": "feb18900",
   "metadata": {},
   "outputs": [
    {
     "data": {
      "text/plain": [
       "True"
      ]
     },
     "execution_count": 520,
     "metadata": {},
     "output_type": "execute_result"
    }
   ],
   "source": [
    "# Verifier checks \n",
    "s2(x22=0) + s2(x22=1) == s1(x11=r1)"
   ]
  },
  {
   "cell_type": "markdown",
   "id": "e0a2bff5",
   "metadata": {},
   "source": [
    "$$\n",
    "Q((r_1, r_2)) = G((r_1, r_2)) \\cdot \\widetilde{eq}((\\beta_1, \\beta_2), (r_1, r_2))\n",
    "$$"
   ]
  },
  {
   "cell_type": "code",
   "execution_count": 521,
   "id": "55145a98",
   "metadata": {},
   "outputs": [
    {
     "data": {
      "text/plain": [
       "83"
      ]
     },
     "execution_count": 521,
     "metadata": {},
     "output_type": "execute_result"
    }
   ],
   "source": [
    "# Verifier computes a random element to check that s2 is actually Q(r1, r2)\n",
    "r2 = k.random_element()\n",
    "r2\n",
    "\n",
    "# Verifier wants to compute Q himself, so he does so with another sumcheck"
   ]
  },
  {
   "cell_type": "markdown",
   "id": "7c7fe9c1",
   "metadata": {},
   "source": [
    "## Inner Sum-Check"
   ]
  },
  {
   "cell_type": "markdown",
   "id": "e3f446aa",
   "metadata": {},
   "source": [
    "$$\n",
    "\\begin{align}\n",
    "T_i &= \\sum_{y \\in \\{0, 1 \\}^3} \\widetilde{M_i}((r_1, r_2), y) \\cdot \\widetilde{z}(y) \\\\\n",
    "&= \\sum_{y_1 \\in \\{0, 1 \\}} \\sum_{y_2 \\in \\{0, 1 \\}} \\sum_{y_3 \\in \\{0, 1 \\}} \\widetilde{M_i}((r_1, r_2), (y_1, y_2, y_3)) \\cdot \\widetilde{z}((y_1, y_2, y_3)) \\\\\n",
    "\\end{align}\n",
    "$$"
   ]
  },
  {
   "cell_type": "markdown",
   "id": "665386ed",
   "metadata": {},
   "source": [
    "#### T1 Sum-Check"
   ]
  },
  {
   "cell_type": "code",
   "execution_count": 522,
   "id": "12b87212",
   "metadata": {},
   "outputs": [
    {
     "data": {
      "text/plain": [
       "-47"
      ]
     },
     "execution_count": 522,
     "metadata": {},
     "output_type": "execute_result"
    }
   ],
   "source": [
    "# Sumcheck protocol 2\n",
    "\n",
    "# Prover claims that for r1, r2, the value T1 is equal to f(r1, r2)\n",
    "def f(Mi, zi):\n",
    "    return sum([\n",
    "        sum([\n",
    "            sum([\n",
    "                Mi_linear(Mi)(x11=r1, x22= r2, y11=y1,y22=y2,y33=y3) * z_linear(zi)(y11=y1,y22=y2,y33=y3)\n",
    "            for y3 in [0,1]])\n",
    "        for y2 in [0,1]])\n",
    "    for y1 in [0,1]])\n",
    "\n",
    "T1 = f(M1, z1)\n",
    "T1\n",
    "\n",
    "# We will do the same for T2 and T3"
   ]
  },
  {
   "cell_type": "markdown",
   "id": "811fc80d",
   "metadata": {},
   "source": [
    "$$\n",
    "f_1(Y_1) := \\sum_{y_2 \\in \\{0,1\\}}\\sum_{y_3 \\in \\{0,1\\}} \\widetilde{M_i}((r_1, r_2), (Y_1, y_2, y_3)) \\cdot \\widetilde{z}((Y_1, y_2, y_3))\n",
    "$$"
   ]
  },
  {
   "cell_type": "code",
   "execution_count": 523,
   "id": "b551fc08",
   "metadata": {},
   "outputs": [
    {
     "data": {
      "text/plain": [
       "39*y11^2 - 8*y11 - 39"
      ]
     },
     "execution_count": 523,
     "metadata": {},
     "output_type": "execute_result"
    }
   ],
   "source": [
    "# Round 1\n",
    "# Prover sends q1 claiming to be f1\n",
    "f1 = sum([\n",
    "        sum([\n",
    "            Mi_linear(M1)(x11=r1, x22= r2, y22=y2,y33=y3) * z_linear(z1)(y22=y2,y33=y3)\n",
    "        for y3 in [0,1]])\n",
    "    for y2 in [0,1]])\n",
    "q1 = f1\n",
    "\n",
    "# Note that q1 is only 3 coefficients\n",
    "q1"
   ]
  },
  {
   "cell_type": "code",
   "execution_count": 524,
   "id": "8c736d08",
   "metadata": {},
   "outputs": [
    {
     "data": {
      "text/plain": [
       "True"
      ]
     },
     "execution_count": 524,
     "metadata": {},
     "output_type": "execute_result"
    }
   ],
   "source": [
    "# Verifier checks \n",
    "q1(y11=0) + q1(y11=1) == T1"
   ]
  },
  {
   "cell_type": "code",
   "execution_count": 525,
   "id": "7fc347cc",
   "metadata": {},
   "outputs": [
    {
     "data": {
      "text/plain": [
       "85"
      ]
     },
     "execution_count": 525,
     "metadata": {},
     "output_type": "execute_result"
    }
   ],
   "source": [
    "# Verifier computes a random element to check that q1 is actually f2\n",
    "r11 = k.random_element()\n",
    "r11"
   ]
  },
  {
   "cell_type": "markdown",
   "id": "ae19d73c",
   "metadata": {},
   "source": [
    "$$\n",
    "f_2(Y_2) := \\sum_{y_3 \\in \\{0,1\\}}\\widetilde{M_i}((r_1, r_2), (r'_1, Y_2, y_3)) \\cdot \\widetilde{z}((r'_1, y_2, y_3))\n",
    "$$"
   ]
  },
  {
   "cell_type": "code",
   "execution_count": 526,
   "id": "53317b29",
   "metadata": {},
   "outputs": [
    {
     "data": {
      "text/plain": [
       "-46*y22^2 - 34*y22 - 24"
      ]
     },
     "execution_count": 526,
     "metadata": {},
     "output_type": "execute_result"
    }
   ],
   "source": [
    "# Round 2\n",
    "# Prover sends s2 claiming to be f2\n",
    "f2 = sum([\n",
    "        Mi_linear(M1)(x11=r1, x22= r2, y11=r11, y33=y3) * z_linear(z1)(y11=r11,y33=y3)\n",
    "    for y3 in [0,1]])\n",
    "q2 = f2\n",
    "\n",
    "# Note that s2 is only 3 coefficients\n",
    "q2"
   ]
  },
  {
   "cell_type": "code",
   "execution_count": 527,
   "id": "3ce9a9a8",
   "metadata": {},
   "outputs": [
    {
     "data": {
      "text/plain": [
       "True"
      ]
     },
     "execution_count": 527,
     "metadata": {},
     "output_type": "execute_result"
    }
   ],
   "source": [
    "# Verifier checks \n",
    "q2(y22=0) + q2(y22=1) == q1(y11=r11)"
   ]
  },
  {
   "cell_type": "code",
   "execution_count": 528,
   "id": "1fa4ee35",
   "metadata": {},
   "outputs": [
    {
     "data": {
      "text/plain": [
       "34"
      ]
     },
     "execution_count": 528,
     "metadata": {},
     "output_type": "execute_result"
    }
   ],
   "source": [
    "# Verifier computes a random element to check that q2 is actually f2\n",
    "r22 = k.random_element()\n",
    "r22"
   ]
  },
  {
   "cell_type": "markdown",
   "id": "15543dd1",
   "metadata": {},
   "source": [
    "$$\n",
    "f_3(Y_3) := \\widetilde{M_i}((r_1, r_2), (r'_1, r'_2, Y_3)) \\cdot \\widetilde{z}((r'_1, r'_2, Y_3))\n",
    "$$"
   ]
  },
  {
   "cell_type": "code",
   "execution_count": 529,
   "id": "2b1c2ec7",
   "metadata": {},
   "outputs": [
    {
     "data": {
      "text/plain": [
       "13*y33^2 - 3*y33 - 14"
      ]
     },
     "execution_count": 529,
     "metadata": {},
     "output_type": "execute_result"
    }
   ],
   "source": [
    "# Round 2\n",
    "# Prover sends q3 claiming to be f3\n",
    "f3 = Mi_linear(M1)(x11=r1, x22= r2, y11=r11, y22=r22) * z_linear(z1)(y11=r11,y22=r22)\n",
    "q3 = f3\n",
    "\n",
    "# Note that q3 is only 3 coefficients\n",
    "q3"
   ]
  },
  {
   "cell_type": "code",
   "execution_count": 530,
   "id": "63e59286",
   "metadata": {},
   "outputs": [
    {
     "data": {
      "text/plain": [
       "True"
      ]
     },
     "execution_count": 530,
     "metadata": {},
     "output_type": "execute_result"
    }
   ],
   "source": [
    "# Verifier checks \n",
    "q3(y33=0) + q3(y33=1) == q2(y22=r22)"
   ]
  },
  {
   "cell_type": "code",
   "execution_count": 531,
   "id": "cceb9c68",
   "metadata": {},
   "outputs": [
    {
     "data": {
      "text/plain": [
       "57"
      ]
     },
     "execution_count": 531,
     "metadata": {},
     "output_type": "execute_result"
    }
   ],
   "source": [
    "# Verifier computes a random element to check that q3 is actually f3\n",
    "r33 = k.random_element()\n",
    "r33"
   ]
  },
  {
   "cell_type": "markdown",
   "id": "6b908626",
   "metadata": {},
   "source": [
    "$$\n",
    "f_3(r'_3) == \\widetilde{M_i}((r_1, r_2), (r'_1, r'_2, r'_3)) \\cdot \\widetilde{z}((r'_1, r'_2, r'_3))\n",
    "$$"
   ]
  },
  {
   "cell_type": "code",
   "execution_count": 532,
   "id": "d50cf0af",
   "metadata": {},
   "outputs": [
    {
     "data": {
      "text/plain": [
       "True"
      ]
     },
     "execution_count": 532,
     "metadata": {},
     "output_type": "execute_result"
    }
   ],
   "source": [
    "# Verifier computes f(r11, r22, r33) \n",
    "c1 = Mi_linear(M1)(x11=r1, x22= r2, y11=r11,y22=r22,y33=r33) * z_linear(z1)(y11=r11,y22=r22,y33=r33)\n",
    "\n",
    "c1 == q3(y33=r33)"
   ]
  },
  {
   "cell_type": "markdown",
   "id": "a3fceabf",
   "metadata": {},
   "source": [
    "#### T2 Sum-Check (same as T1)"
   ]
  },
  {
   "cell_type": "code",
   "execution_count": 533,
   "id": "5842a805",
   "metadata": {},
   "outputs": [
    {
     "data": {
      "text/plain": [
       "33"
      ]
     },
     "execution_count": 533,
     "metadata": {},
     "output_type": "execute_result"
    }
   ],
   "source": [
    "# Repeat same sucheck for M2\n",
    "T2 = f(M2, z1)\n",
    "T2"
   ]
  },
  {
   "cell_type": "code",
   "execution_count": 534,
   "id": "95930253",
   "metadata": {},
   "outputs": [
    {
     "data": {
      "text/plain": [
       "10*y11^2 + 23*y11"
      ]
     },
     "execution_count": 534,
     "metadata": {},
     "output_type": "execute_result"
    }
   ],
   "source": [
    "# Round 1\n",
    "# Prover sends q1 claiming to be f1\n",
    "f1 = sum([\n",
    "        sum([\n",
    "            Mi_linear(M2)(x11=r1, x22= r2, y22=y2,y33=y3) * z_linear(z1)(y22=y2,y33=y3)\n",
    "        for y3 in [0,1]])\n",
    "    for y2 in [0,1]])\n",
    "q1 = f1\n",
    "\n",
    "# Note that q1 is only 3 coefficients\n",
    "q1"
   ]
  },
  {
   "cell_type": "code",
   "execution_count": 535,
   "id": "881763a4",
   "metadata": {},
   "outputs": [
    {
     "data": {
      "text/plain": [
       "True"
      ]
     },
     "execution_count": 535,
     "metadata": {},
     "output_type": "execute_result"
    }
   ],
   "source": [
    "# Verifier checks \n",
    "q1(y11=0) + q1(y11=1) == T2"
   ]
  },
  {
   "cell_type": "code",
   "execution_count": 536,
   "id": "1189cfe0",
   "metadata": {},
   "outputs": [
    {
     "data": {
      "text/plain": [
       "41"
      ]
     },
     "execution_count": 536,
     "metadata": {},
     "output_type": "execute_result"
    }
   ],
   "source": [
    "# Verifier computes a random element to check that s1 is actually f2\n",
    "r11 = k.random_element()\n",
    "r11"
   ]
  },
  {
   "cell_type": "code",
   "execution_count": 537,
   "id": "564c041c",
   "metadata": {},
   "outputs": [
    {
     "data": {
      "text/plain": [
       "-28*y22^2 - 31*y22 + 18"
      ]
     },
     "execution_count": 537,
     "metadata": {},
     "output_type": "execute_result"
    }
   ],
   "source": [
    "# Round 2\n",
    "# Prover sends q2 claiming to be f2\n",
    "f2 = sum([\n",
    "        Mi_linear(M2)(x11=r1, x22= r2, y11=r11, y33=y3) * z_linear(z1)(y11=r11,y33=y3)\n",
    "    for y3 in [0,1]])\n",
    "q2 = f2\n",
    "\n",
    "# Note that q2 is only 3 coefficients\n",
    "q2"
   ]
  },
  {
   "cell_type": "code",
   "execution_count": 538,
   "id": "5e315128",
   "metadata": {},
   "outputs": [
    {
     "data": {
      "text/plain": [
       "True"
      ]
     },
     "execution_count": 538,
     "metadata": {},
     "output_type": "execute_result"
    }
   ],
   "source": [
    "# Verifier checks \n",
    "q2(y22=0) + q2(y22=1) == q1(y11=r11)"
   ]
  },
  {
   "cell_type": "code",
   "execution_count": 539,
   "id": "dd4dfadf",
   "metadata": {},
   "outputs": [
    {
     "data": {
      "text/plain": [
       "30"
      ]
     },
     "execution_count": 539,
     "metadata": {},
     "output_type": "execute_result"
    }
   ],
   "source": [
    "# Verifier computes a random element to check that s2 is actually f2\n",
    "r22 = k.random_element()\n",
    "r22"
   ]
  },
  {
   "cell_type": "code",
   "execution_count": 540,
   "id": "2c48b1a5",
   "metadata": {},
   "outputs": [
    {
     "data": {
      "text/plain": [
       "44*y33^2 - 26*y33 - 36"
      ]
     },
     "execution_count": 540,
     "metadata": {},
     "output_type": "execute_result"
    }
   ],
   "source": [
    "# Round 2\n",
    "# Prover sends q3 claiming to be f3\n",
    "f3 = Mi_linear(M2)(x11=r1, x22= r2, y11=r11, y22=r22) * z_linear(z1)(y11=r11,y22=r22)\n",
    "q3 = f3\n",
    "\n",
    "# Note that s3 is only 3 coefficients\n",
    "q3"
   ]
  },
  {
   "cell_type": "code",
   "execution_count": 541,
   "id": "6d83811b",
   "metadata": {},
   "outputs": [
    {
     "data": {
      "text/plain": [
       "True"
      ]
     },
     "execution_count": 541,
     "metadata": {},
     "output_type": "execute_result"
    }
   ],
   "source": [
    "# Verifier checks \n",
    "q3(y33=0) + q3(y33=1) == q2(y22=r22)"
   ]
  },
  {
   "cell_type": "code",
   "execution_count": 542,
   "id": "77181d4d",
   "metadata": {},
   "outputs": [
    {
     "data": {
      "text/plain": [
       "11"
      ]
     },
     "execution_count": 542,
     "metadata": {},
     "output_type": "execute_result"
    }
   ],
   "source": [
    "# Verifier computes a random element to check that s3 is actually f3\n",
    "r33 = k.random_element()\n",
    "r33"
   ]
  },
  {
   "cell_type": "code",
   "execution_count": 543,
   "id": "439d167b",
   "metadata": {},
   "outputs": [
    {
     "data": {
      "text/plain": [
       "True"
      ]
     },
     "execution_count": 543,
     "metadata": {},
     "output_type": "execute_result"
    }
   ],
   "source": [
    "# Verifier computes\n",
    "c2 = Mi_linear(M2)(x11=r1, x22= r2, y11=r11,y22=r22,y33=r33) * z_linear(z1)(y11=r11,y22=r22,y33=r33)\n",
    "\n",
    "c2 == q3(y33=r33)"
   ]
  },
  {
   "cell_type": "markdown",
   "id": "414f889d",
   "metadata": {},
   "source": [
    "#### T3 Sum-Check (same as T1, T2)"
   ]
  },
  {
   "cell_type": "code",
   "execution_count": 544,
   "id": "23e4752d",
   "metadata": {},
   "outputs": [
    {
     "data": {
      "text/plain": [
       "40"
      ]
     },
     "execution_count": 544,
     "metadata": {},
     "output_type": "execute_result"
    }
   ],
   "source": [
    "# Repeat same sucheck for M3\n",
    "T3 = f(M3, z1)\n",
    "T3"
   ]
  },
  {
   "cell_type": "code",
   "execution_count": 545,
   "id": "eea6c86a",
   "metadata": {},
   "outputs": [
    {
     "data": {
      "text/plain": [
       "-6*y11^2 - 13*y11 - 21"
      ]
     },
     "execution_count": 545,
     "metadata": {},
     "output_type": "execute_result"
    }
   ],
   "source": [
    "# Round 1\n",
    "# Prover sends q1 claiming to be f1\n",
    "f1 = sum([\n",
    "        sum([\n",
    "            Mi_linear(M3)(x11=r1, x22= r2, y22=y2,y33=y3) * z_linear(z1)(y22=y2,y33=y3)\n",
    "        for y3 in [0,1]])\n",
    "    for y2 in [0,1]])\n",
    "q1 = f1\n",
    "\n",
    "# Note that q1 is only 3 coefficients\n",
    "q1"
   ]
  },
  {
   "cell_type": "code",
   "execution_count": 546,
   "id": "7517bf97",
   "metadata": {},
   "outputs": [
    {
     "data": {
      "text/plain": [
       "True"
      ]
     },
     "execution_count": 546,
     "metadata": {},
     "output_type": "execute_result"
    }
   ],
   "source": [
    "# Verifier checks \n",
    "q1(y11=0) + q1(y11=1) == T3"
   ]
  },
  {
   "cell_type": "code",
   "execution_count": 547,
   "id": "a4dabbe3",
   "metadata": {},
   "outputs": [
    {
     "data": {
      "text/plain": [
       "60"
      ]
     },
     "execution_count": 547,
     "metadata": {},
     "output_type": "execute_result"
    }
   ],
   "source": [
    "# Verifier computes a random element to check that q1 is actually f2\n",
    "r11 = k.random_element()\n",
    "r11"
   ]
  },
  {
   "cell_type": "code",
   "execution_count": 548,
   "id": "aaf4b99d",
   "metadata": {},
   "outputs": [
    {
     "data": {
      "text/plain": [
       "34*y22^2 + 38*y22 + 25"
      ]
     },
     "execution_count": 548,
     "metadata": {},
     "output_type": "execute_result"
    }
   ],
   "source": [
    "# Round 2\n",
    "# Prover sends q2 claiming to be f2\n",
    "f2 = sum([\n",
    "        Mi_linear(M3)(x11=r1, x22= r2, y11=r11, y33=y3) * z_linear(z1)(y11=r11,y33=y3)\n",
    "    for y3 in [0,1]])\n",
    "q2 = f2\n",
    "\n",
    "# Note that q2 is only 3 coefficients\n",
    "q2"
   ]
  },
  {
   "cell_type": "code",
   "execution_count": 549,
   "id": "9ba37275",
   "metadata": {},
   "outputs": [
    {
     "data": {
      "text/plain": [
       "True"
      ]
     },
     "execution_count": 549,
     "metadata": {},
     "output_type": "execute_result"
    }
   ],
   "source": [
    "# Verifier checks \n",
    "q2(y22=0) + q2(y22=1) == q1(y11=r11)"
   ]
  },
  {
   "cell_type": "code",
   "execution_count": 550,
   "id": "09dd6453",
   "metadata": {},
   "outputs": [
    {
     "data": {
      "text/plain": [
       "51"
      ]
     },
     "execution_count": 550,
     "metadata": {},
     "output_type": "execute_result"
    }
   ],
   "source": [
    "# Verifier computes a random element to check that q2 is actually f2\n",
    "r22 = k.random_element()\n",
    "r22"
   ]
  },
  {
   "cell_type": "code",
   "execution_count": 551,
   "id": "c5417e71",
   "metadata": {},
   "outputs": [
    {
     "data": {
      "text/plain": [
       "y33^2 + 28*y33 + 37"
      ]
     },
     "execution_count": 551,
     "metadata": {},
     "output_type": "execute_result"
    }
   ],
   "source": [
    "# Round 2\n",
    "# Prover sends q3 claiming to be f3\n",
    "f3 = Mi_linear(M3)(x11=r1, x22= r2, y11=r11, y22=r22) * z_linear(z1)(y11=r11,y22=r22)\n",
    "q3 = f3\n",
    "\n",
    "# Note that q3 is only 3 coefficients\n",
    "q3"
   ]
  },
  {
   "cell_type": "code",
   "execution_count": 552,
   "id": "498e2296",
   "metadata": {},
   "outputs": [
    {
     "data": {
      "text/plain": [
       "True"
      ]
     },
     "execution_count": 552,
     "metadata": {},
     "output_type": "execute_result"
    }
   ],
   "source": [
    "# Verifier checks \n",
    "q3(y33=0) + q3(y33=1) == q2(y22=r22)"
   ]
  },
  {
   "cell_type": "code",
   "execution_count": 553,
   "id": "4a3cc12a",
   "metadata": {},
   "outputs": [
    {
     "data": {
      "text/plain": [
       "48"
      ]
     },
     "execution_count": 553,
     "metadata": {},
     "output_type": "execute_result"
    }
   ],
   "source": [
    "# Verifier computes a random element to check that s3 is actually f3\n",
    "r33 = k.random_element()\n",
    "r33"
   ]
  },
  {
   "cell_type": "code",
   "execution_count": 554,
   "id": "c0a6a7de",
   "metadata": {},
   "outputs": [
    {
     "data": {
      "text/plain": [
       "True"
      ]
     },
     "execution_count": 554,
     "metadata": {},
     "output_type": "execute_result"
    }
   ],
   "source": [
    "# Verifier computes\n",
    "c3 = Mi_linear(M3)(x11=r1, x22= r2, y11=r11,y22=r22,y33=r33) * z_linear(z1)(y11=r11,y22=r22,y33=r33)\n",
    "\n",
    "c3 == q3(y33=r33)"
   ]
  },
  {
   "cell_type": "markdown",
   "id": "210b4052",
   "metadata": {},
   "source": [
    "## Final check"
   ]
  },
  {
   "cell_type": "markdown",
   "id": "8eb78a3c",
   "metadata": {},
   "source": [
    "$$\n",
    "\\begin{align*}\n",
    "G((r_1, r_2)) &= 1 \\cdot (\\sum_{y \\in \\{0, 1 \\}^3} \\widetilde{M_1}((r_1, r_2),  y) \\cdot \\widetilde{z}(y) \\cdot \\sum_{y \\in \\{0, 1 \\}^{3}} \\widetilde{M_1}((r_1, r_2), y) \\cdot \\widetilde{z}(y)) \\\\\n",
    "& + (-1) \\cdot (\\sum_{y \\in \\{0, 1 \\}^{3}} \\widetilde{M_3}((r_1, r_2), y) \\cdot \\widetilde{z}(y)) \\\\\n",
    "&= T_1 \\cdot T_2 - T_3\n",
    "\\end{align*}\n",
    "$$"
   ]
  },
  {
   "cell_type": "code",
   "execution_count": 555,
   "id": "1777daec",
   "metadata": {},
   "outputs": [
    {
     "data": {
      "text/plain": [
       "True"
      ]
     },
     "execution_count": 555,
     "metadata": {},
     "output_type": "execute_result"
    }
   ],
   "source": [
    "G(x11=r1, x22=r2) == (T1 * T2 - T3)"
   ]
  },
  {
   "cell_type": "code",
   "execution_count": 556,
   "id": "30b3593c",
   "metadata": {},
   "outputs": [
    {
     "data": {
      "text/plain": [
       "0"
      ]
     },
     "execution_count": 556,
     "metadata": {},
     "output_type": "execute_result"
    }
   ],
   "source": [
    "Q(x11=r1, x22=r2)"
   ]
  },
  {
   "cell_type": "code",
   "execution_count": 557,
   "id": "76660294",
   "metadata": {},
   "outputs": [
    {
     "data": {
      "text/plain": [
       "25"
      ]
     },
     "execution_count": 557,
     "metadata": {},
     "output_type": "execute_result"
    }
   ],
   "source": [
    "(T1 * T2 - T3)"
   ]
  },
  {
   "cell_type": "code",
   "execution_count": 558,
   "id": "3f17dad9",
   "metadata": {},
   "outputs": [
    {
     "data": {
      "text/plain": [
       "0"
      ]
     },
     "execution_count": 558,
     "metadata": {},
     "output_type": "execute_result"
    }
   ],
   "source": [
    "eqx(x11=r1, x22=r2, x1=beta1, x2=beta2)"
   ]
  },
  {
   "cell_type": "markdown",
   "id": "6efdd096",
   "metadata": {},
   "source": [
    "$$\n",
    "\\begin{align*}\n",
    "s_2(r_2) = Q((r_1, r_2)) &= G((r_1, r_2)) \\cdot \\widetilde{eq}((\\beta_1, \\beta_2), (r_1, r_2)) \\\\\n",
    "&= (T_1 \\cdot T_2 - T_3) \\cdot \\widetilde{eq}((\\beta_1, \\beta_2), (r_1, r_2))\n",
    "\\end{align*}\n",
    "$$"
   ]
  },
  {
   "cell_type": "code",
   "execution_count": 559,
   "id": "c621c099",
   "metadata": {},
   "outputs": [
    {
     "data": {
      "text/plain": [
       "True"
      ]
     },
     "execution_count": 559,
     "metadata": {},
     "output_type": "execute_result"
    }
   ],
   "source": [
    "# verifier can now compute that Q(r1, r2) = (T1 * T2 - T3) * eq((r1, r2), (beta1, beta2))\n",
    "\n",
    "Q(x11=r1, x22=r2) == (T1 * T2 - T3) * eqx(x11=r1, x22=r2, x1=beta1, x2=beta2)"
   ]
  }
 ],
 "metadata": {
  "kernelspec": {
   "display_name": "SageMath 9.5",
   "language": "sage",
   "name": "sagemath-9.5"
  },
  "language_info": {
   "codemirror_mode": {
    "name": "ipython",
    "version": 3
   },
   "file_extension": ".py",
   "mimetype": "text/x-python",
   "name": "python",
   "nbconvert_exporter": "python",
   "pygments_lexer": "ipython3",
   "version": "3.9.9"
  }
 },
 "nbformat": 4,
 "nbformat_minor": 5
}
